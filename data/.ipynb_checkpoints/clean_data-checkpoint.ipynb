{
 "cells": [
  {
   "cell_type": "code",
   "execution_count": 1,
   "metadata": {},
   "outputs": [],
   "source": [
    "import pandas as pd"
   ]
  },
  {
   "cell_type": "code",
   "execution_count": 4,
   "metadata": {},
   "outputs": [],
   "source": [
    "df = pd.read_csv('TEDS-D-2007-DS0001-data-excel.tsv', sep='\\t')"
   ]
  },
  {
   "cell_type": "code",
   "execution_count": 6,
   "metadata": {},
   "outputs": [
    {
     "data": {
      "text/plain": [
       "Index(['CASEID', 'DISYR', 'AGE', 'GENDER', 'RACE', 'ETHNIC', 'MARSTAT', 'EDUC',\n",
       "       'EMPLOY', 'DETNLF', 'PREG', 'VET', 'LIVARAG', 'PRIMINC', 'STFIPS',\n",
       "       'CBSA', 'PMSA', 'REGION', 'DIVISION', 'SERVSETD', 'METHUSE', 'DAYWAIT',\n",
       "       'REASON', 'LOS', 'PSOURCE', 'DETCRIM', 'NOPRIOR', 'SUB1', 'ROUTE1',\n",
       "       'FREQ1', 'FRSTUSE1', 'SUB2', 'ROUTE2', 'FREQ2', 'FRSTUSE2', 'SUB3',\n",
       "       'ROUTE3', 'FREQ3', 'FRSTUSE3', 'NUMSUBS', 'IDU', 'ALCFLG', 'COKEFLG',\n",
       "       'MARFLG', 'HERFLG', 'METHFLG', 'OPSYNFLG', 'PCPFLG', 'HALLFLG',\n",
       "       'MTHAMFLG', 'AMPHFLG', 'STIMFLG', 'BENZFLG', 'TRNQFLG', 'BARBFLG',\n",
       "       'SEDHPFLG', 'INHFLG', 'OTCFLG', 'OTHERFLG', 'ALCDRUG', 'DSMCRIT',\n",
       "       'PSYPROB', 'HLTHINS', 'PRIMPAY'],\n",
       "      dtype='object')"
      ]
     },
     "execution_count": 6,
     "metadata": {},
     "output_type": "execute_result"
    }
   ],
   "source": [
    "df.columns"
   ]
  },
  {
   "cell_type": "code",
   "execution_count": 8,
   "metadata": {},
   "outputs": [
    {
     "data": {
      "text/plain": [
       "0           5\n",
       "1           2\n",
       "2           2\n",
       "3           2\n",
       "4           2\n",
       "           ..\n",
       "1607370     5\n",
       "1607371    10\n",
       "1607372     2\n",
       "1607373    10\n",
       "1607374     2\n",
       "Name: SUB1, Length: 1607375, dtype: int64"
      ]
     },
     "execution_count": 8,
     "metadata": {},
     "output_type": "execute_result"
    }
   ],
   "source": [
    "df.SUB1"
   ]
  },
  {
   "cell_type": "code",
   "execution_count": 9,
   "metadata": {},
   "outputs": [],
   "source": [
    "results = pd.read_csv('../../magicloops/results.csv')"
   ]
  },
  {
   "cell_type": "code",
   "execution_count": 13,
   "metadata": {},
   "outputs": [
    {
     "data": {
      "text/plain": [
       "<AxesSubplot:xlabel='model_type', ylabel='auc-roc'>"
      ]
     },
     "execution_count": 13,
     "metadata": {},
     "output_type": "execute_result"
    },
    {
     "data": {
      "image/png": "[encoded data removed]",
      "text/plain": [
       "<Figure size 432x288 with 1 Axes>"
      ]
     },
     "metadata": {},
     "output_type": "display_data"
    }
   ],
   "source": [
    "%matplotlib inline\n",
    "import seaborn as sns\n",
    "sns.set()\n",
    "\n",
    "sns.barplot(x='model_type', y='auc-roc', data=results)"
   ]
  },
  {
   "cell_type": "code",
   "execution_count": 15,
   "metadata": {},
   "outputs": [
    {
     "data": {
      "text/html": [
       "<div>\n",
       "<style scoped>\n",
       "    .dataframe tbody tr th:only-of-type {\n",
       "        vertical-align: middle;\n",
       "    }\n",
       "\n",
       "    .dataframe tbody tr th {\n",
       "        vertical-align: top;\n",
       "    }\n",
       "\n",
       "    .dataframe thead th {\n",
       "        text-align: right;\n",
       "    }\n",
       "</style>\n",
       "<table border=\"1\" class=\"dataframe\">\n",
       "  <thead>\n",
       "    <tr style=\"text-align: right;\">\n",
       "      <th></th>\n",
       "      <th>model_type</th>\n",
       "      <th>clf</th>\n",
       "      <th>parameters</th>\n",
       "      <th>auc-roc</th>\n",
       "      <th>p_at_5</th>\n",
       "      <th>p_at_10</th>\n",
       "      <th>p_at_20</th>\n",
       "    </tr>\n",
       "  </thead>\n",
       "  <tbody>\n",
       "    <tr>\n",
       "      <th>119</th>\n",
       "      <td>ET</td>\n",
       "      <td>ExtraTreesClassifier(criterion='entropy', max_...</td>\n",
       "      <td>{'criterion': 'entropy', 'max_depth': 50, 'max...</td>\n",
       "      <td>0.746209</td>\n",
       "      <td>0.779032</td>\n",
       "      <td>0.756550</td>\n",
       "      <td>0.721942</td>\n",
       "    </tr>\n",
       "    <tr>\n",
       "      <th>99</th>\n",
       "      <td>ET</td>\n",
       "      <td>ExtraTreesClassifier(criterion='entropy', max_...</td>\n",
       "      <td>{'criterion': 'gini', 'max_depth': 50, 'max_fe...</td>\n",
       "      <td>0.745513</td>\n",
       "      <td>0.785484</td>\n",
       "      <td>0.754938</td>\n",
       "      <td>0.719927</td>\n",
       "    </tr>\n",
       "    <tr>\n",
       "      <th>11</th>\n",
       "      <td>RF</td>\n",
       "      <td>RandomForestClassifier(max_depth=50, max_featu...</td>\n",
       "      <td>{'max_depth': 50, 'max_features': 'sqrt', 'min...</td>\n",
       "      <td>0.745307</td>\n",
       "      <td>0.778226</td>\n",
       "      <td>0.754534</td>\n",
       "      <td>0.717308</td>\n",
       "    </tr>\n",
       "    <tr>\n",
       "      <th>115</th>\n",
       "      <td>ET</td>\n",
       "      <td>ExtraTreesClassifier(criterion='entropy', max_...</td>\n",
       "      <td>{'criterion': 'entropy', 'max_depth': 50, 'max...</td>\n",
       "      <td>0.745140</td>\n",
       "      <td>0.783065</td>\n",
       "      <td>0.762193</td>\n",
       "      <td>0.717711</td>\n",
       "    </tr>\n",
       "    <tr>\n",
       "      <th>103</th>\n",
       "      <td>ET</td>\n",
       "      <td>ExtraTreesClassifier(criterion='entropy', max_...</td>\n",
       "      <td>{'criterion': 'gini', 'max_depth': 50, 'max_fe...</td>\n",
       "      <td>0.745052</td>\n",
       "      <td>0.793548</td>\n",
       "      <td>0.761790</td>\n",
       "      <td>0.720935</td>\n",
       "    </tr>\n",
       "    <tr>\n",
       "      <th>...</th>\n",
       "      <td>...</td>\n",
       "      <td>...</td>\n",
       "      <td>...</td>\n",
       "      <td>...</td>\n",
       "      <td>...</td>\n",
       "      <td>...</td>\n",
       "      <td>...</td>\n",
       "    </tr>\n",
       "    <tr>\n",
       "      <th>163</th>\n",
       "      <td>GB</td>\n",
       "      <td>GradientBoostingClassifier(learning_rate=0.5, ...</td>\n",
       "      <td>{'learning_rate': 0.5, 'max_depth': 50, 'n_est...</td>\n",
       "      <td>0.551050</td>\n",
       "      <td>0.001613</td>\n",
       "      <td>0.128980</td>\n",
       "      <td>0.064477</td>\n",
       "    </tr>\n",
       "    <tr>\n",
       "      <th>35</th>\n",
       "      <td>DT</td>\n",
       "      <td>DecisionTreeClassifier(criterion='entropy', ma...</td>\n",
       "      <td>{'criterion': 'entropy', 'max_depth': 1, 'min_...</td>\n",
       "      <td>0.544965</td>\n",
       "      <td>0.999194</td>\n",
       "      <td>0.999597</td>\n",
       "      <td>0.835382</td>\n",
       "    </tr>\n",
       "    <tr>\n",
       "      <th>34</th>\n",
       "      <td>DT</td>\n",
       "      <td>DecisionTreeClassifier(criterion='entropy', ma...</td>\n",
       "      <td>{'criterion': 'entropy', 'max_depth': 1, 'min_...</td>\n",
       "      <td>0.544965</td>\n",
       "      <td>0.999194</td>\n",
       "      <td>0.999597</td>\n",
       "      <td>0.835382</td>\n",
       "    </tr>\n",
       "    <tr>\n",
       "      <th>36</th>\n",
       "      <td>DT</td>\n",
       "      <td>DecisionTreeClassifier(criterion='entropy', ma...</td>\n",
       "      <td>{'criterion': 'entropy', 'max_depth': 1, 'min_...</td>\n",
       "      <td>0.544965</td>\n",
       "      <td>0.999194</td>\n",
       "      <td>0.999597</td>\n",
       "      <td>0.835382</td>\n",
       "    </tr>\n",
       "    <tr>\n",
       "      <th>166</th>\n",
       "      <td>LR</td>\n",
       "      <td>LogisticRegression(C=10, solver='liblinear')</td>\n",
       "      <td>{'C': 1e-05, 'penalty': 'l1'}</td>\n",
       "      <td>0.500000</td>\n",
       "      <td>0.999194</td>\n",
       "      <td>0.999597</td>\n",
       "      <td>0.861173</td>\n",
       "    </tr>\n",
       "  </tbody>\n",
       "</table>\n",
       "<p>177 rows × 7 columns</p>\n",
       "</div>"
      ],
      "text/plain": [
       "    model_type                                                clf  \\\n",
       "119         ET  ExtraTreesClassifier(criterion='entropy', max_...   \n",
       "99          ET  ExtraTreesClassifier(criterion='entropy', max_...   \n",
       "11          RF  RandomForestClassifier(max_depth=50, max_featu...   \n",
       "115         ET  ExtraTreesClassifier(criterion='entropy', max_...   \n",
       "103         ET  ExtraTreesClassifier(criterion='entropy', max_...   \n",
       "..         ...                                                ...   \n",
       "163         GB  GradientBoostingClassifier(learning_rate=0.5, ...   \n",
       "35          DT  DecisionTreeClassifier(criterion='entropy', ma...   \n",
       "34          DT  DecisionTreeClassifier(criterion='entropy', ma...   \n",
       "36          DT  DecisionTreeClassifier(criterion='entropy', ma...   \n",
       "166         LR       LogisticRegression(C=10, solver='liblinear')   \n",
       "\n",
       "                                            parameters   auc-roc    p_at_5  \\\n",
       "119  {'criterion': 'entropy', 'max_depth': 50, 'max...  0.746209  0.779032   \n",
       "99   {'criterion': 'gini', 'max_depth': 50, 'max_fe...  0.745513  0.785484   \n",
       "11   {'max_depth': 50, 'max_features': 'sqrt', 'min...  0.745307  0.778226   \n",
       "115  {'criterion': 'entropy', 'max_depth': 50, 'max...  0.745140  0.783065   \n",
       "103  {'criterion': 'gini', 'max_depth': 50, 'max_fe...  0.745052  0.793548   \n",
       "..                                                 ...       ...       ...   \n",
       "163  {'learning_rate': 0.5, 'max_depth': 50, 'n_est...  0.551050  0.001613   \n",
       "35   {'criterion': 'entropy', 'max_depth': 1, 'min_...  0.544965  0.999194   \n",
       "34   {'criterion': 'entropy', 'max_depth': 1, 'min_...  0.544965  0.999194   \n",
       "36   {'criterion': 'entropy', 'max_depth': 1, 'min_...  0.544965  0.999194   \n",
       "166                      {'C': 1e-05, 'penalty': 'l1'}  0.500000  0.999194   \n",
       "\n",
       "      p_at_10   p_at_20  \n",
       "119  0.756550  0.721942  \n",
       "99   0.754938  0.719927  \n",
       "11   0.754534  0.717308  \n",
       "115  0.762193  0.717711  \n",
       "103  0.761790  0.720935  \n",
       "..        ...       ...  \n",
       "163  0.128980  0.064477  \n",
       "35   0.999597  0.835382  \n",
       "34   0.999597  0.835382  \n",
       "36   0.999597  0.835382  \n",
       "166  0.999597  0.861173  \n",
       "\n",
       "[177 rows x 7 columns]"
      ]
     },
     "execution_count": 15,
     "metadata": {},
     "output_type": "execute_result"
    }
   ],
   "source": [
    "results.sort_values('auc-roc', ascending=False)"
   ]
  },
  {
   "cell_type": "code",
   "execution_count": 44,
   "metadata": {},
   "outputs": [],
   "source": [
    "teds = pd.read_csv('../teds_predictions.csv')"
   ]
  },
  {
   "cell_type": "code",
   "execution_count": 45,
   "metadata": {},
   "outputs": [],
   "source": [
    "teds = teds.rename(columns={'COMPLETED':'label_value'})"
   ]
  },
  {
   "cell_type": "code",
   "execution_count": 46,
   "metadata": {},
   "outputs": [
    {
     "data": {
      "text/html": [
       "<div>\n",
       "<style scoped>\n",
       "    .dataframe tbody tr th:only-of-type {\n",
       "        vertical-align: middle;\n",
       "    }\n",
       "\n",
       "    .dataframe tbody tr th {\n",
       "        vertical-align: top;\n",
       "    }\n",
       "\n",
       "    .dataframe thead th {\n",
       "        text-align: right;\n",
       "    }\n",
       "</style>\n",
       "<table border=\"1\" class=\"dataframe\">\n",
       "  <thead>\n",
       "    <tr style=\"text-align: right;\">\n",
       "      <th></th>\n",
       "      <th>Unnamed: 0</th>\n",
       "      <th>ROUTE1</th>\n",
       "      <th>ALCFLG</th>\n",
       "      <th>FREQ1</th>\n",
       "      <th>FRSTUSE1</th>\n",
       "      <th>IDU</th>\n",
       "      <th>COKEFLG</th>\n",
       "      <th>BENZFLG</th>\n",
       "      <th>PSYPROB</th>\n",
       "      <th>HLTHINS</th>\n",
       "      <th>...</th>\n",
       "      <th>NOPRIOR</th>\n",
       "      <th>EDUC</th>\n",
       "      <th>HERFLG</th>\n",
       "      <th>RACE</th>\n",
       "      <th>MARSTAT</th>\n",
       "      <th>PRIMINC</th>\n",
       "      <th>ETHNIC</th>\n",
       "      <th>ARRESTS_D</th>\n",
       "      <th>label_value</th>\n",
       "      <th>score</th>\n",
       "    </tr>\n",
       "  </thead>\n",
       "  <tbody>\n",
       "    <tr>\n",
       "      <th>0</th>\n",
       "      <td>1</td>\n",
       "      <td>4</td>\n",
       "      <td>0</td>\n",
       "      <td>3</td>\n",
       "      <td>3</td>\n",
       "      <td>1</td>\n",
       "      <td>0</td>\n",
       "      <td>0</td>\n",
       "      <td>2</td>\n",
       "      <td>2</td>\n",
       "      <td>...</td>\n",
       "      <td>1</td>\n",
       "      <td>3</td>\n",
       "      <td>1</td>\n",
       "      <td>5</td>\n",
       "      <td>1</td>\n",
       "      <td>2</td>\n",
       "      <td>4</td>\n",
       "      <td>0</td>\n",
       "      <td>0</td>\n",
       "      <td>0</td>\n",
       "    </tr>\n",
       "    <tr>\n",
       "      <th>1</th>\n",
       "      <td>2</td>\n",
       "      <td>4</td>\n",
       "      <td>1</td>\n",
       "      <td>3</td>\n",
       "      <td>5</td>\n",
       "      <td>1</td>\n",
       "      <td>0</td>\n",
       "      <td>0</td>\n",
       "      <td>1</td>\n",
       "      <td>2</td>\n",
       "      <td>...</td>\n",
       "      <td>0</td>\n",
       "      <td>3</td>\n",
       "      <td>1</td>\n",
       "      <td>5</td>\n",
       "      <td>1</td>\n",
       "      <td>1</td>\n",
       "      <td>4</td>\n",
       "      <td>0</td>\n",
       "      <td>0</td>\n",
       "      <td>0</td>\n",
       "    </tr>\n",
       "    <tr>\n",
       "      <th>2</th>\n",
       "      <td>3</td>\n",
       "      <td>1</td>\n",
       "      <td>0</td>\n",
       "      <td>3</td>\n",
       "      <td>3</td>\n",
       "      <td>-9</td>\n",
       "      <td>0</td>\n",
       "      <td>0</td>\n",
       "      <td>1</td>\n",
       "      <td>1</td>\n",
       "      <td>...</td>\n",
       "      <td>1</td>\n",
       "      <td>4</td>\n",
       "      <td>0</td>\n",
       "      <td>5</td>\n",
       "      <td>1</td>\n",
       "      <td>1</td>\n",
       "      <td>4</td>\n",
       "      <td>0</td>\n",
       "      <td>0</td>\n",
       "      <td>0</td>\n",
       "    </tr>\n",
       "    <tr>\n",
       "      <th>3</th>\n",
       "      <td>4</td>\n",
       "      <td>4</td>\n",
       "      <td>0</td>\n",
       "      <td>3</td>\n",
       "      <td>4</td>\n",
       "      <td>1</td>\n",
       "      <td>0</td>\n",
       "      <td>0</td>\n",
       "      <td>1</td>\n",
       "      <td>1</td>\n",
       "      <td>...</td>\n",
       "      <td>1</td>\n",
       "      <td>2</td>\n",
       "      <td>1</td>\n",
       "      <td>5</td>\n",
       "      <td>1</td>\n",
       "      <td>4</td>\n",
       "      <td>4</td>\n",
       "      <td>0</td>\n",
       "      <td>0</td>\n",
       "      <td>0</td>\n",
       "    </tr>\n",
       "    <tr>\n",
       "      <th>4</th>\n",
       "      <td>5</td>\n",
       "      <td>4</td>\n",
       "      <td>0</td>\n",
       "      <td>3</td>\n",
       "      <td>6</td>\n",
       "      <td>1</td>\n",
       "      <td>0</td>\n",
       "      <td>0</td>\n",
       "      <td>1</td>\n",
       "      <td>2</td>\n",
       "      <td>...</td>\n",
       "      <td>0</td>\n",
       "      <td>1</td>\n",
       "      <td>1</td>\n",
       "      <td>5</td>\n",
       "      <td>1</td>\n",
       "      <td>4</td>\n",
       "      <td>4</td>\n",
       "      <td>0</td>\n",
       "      <td>0</td>\n",
       "      <td>0</td>\n",
       "    </tr>\n",
       "  </tbody>\n",
       "</table>\n",
       "<p>5 rows × 26 columns</p>\n",
       "</div>"
      ],
      "text/plain": [
       "   Unnamed: 0  ROUTE1  ALCFLG  FREQ1  FRSTUSE1  IDU  COKEFLG  BENZFLG  \\\n",
       "0           1       4       0      3         3    1        0        0   \n",
       "1           2       4       1      3         5    1        0        0   \n",
       "2           3       1       0      3         3   -9        0        0   \n",
       "3           4       4       0      3         4    1        0        0   \n",
       "4           5       4       0      3         6    1        0        0   \n",
       "\n",
       "   PSYPROB  HLTHINS  ...  NOPRIOR  EDUC  HERFLG  RACE  MARSTAT  PRIMINC  \\\n",
       "0        2        2  ...        1     3       1     5        1        2   \n",
       "1        1        2  ...        0     3       1     5        1        1   \n",
       "2        1        1  ...        1     4       0     5        1        1   \n",
       "3        1        1  ...        1     2       1     5        1        4   \n",
       "4        1        2  ...        0     1       1     5        1        4   \n",
       "\n",
       "   ETHNIC  ARRESTS_D  label_value  score  \n",
       "0       4          0            0      0  \n",
       "1       4          0            0      0  \n",
       "2       4          0            0      0  \n",
       "3       4          0            0      0  \n",
       "4       4          0            0      0  \n",
       "\n",
       "[5 rows x 26 columns]"
      ]
     },
     "execution_count": 46,
     "metadata": {},
     "output_type": "execute_result"
    }
   ],
   "source": [
    "teds.head()"
   ]
  },
  {
   "cell_type": "code",
   "execution_count": 23,
   "metadata": {},
   "outputs": [],
   "source": [
    "teds[['score', 'label_value', 'RACE', 'HLTHINS', 'AGE', 'ETHNIC']].to_csv('teds4aequitas.csv', index=False)"
   ]
  },
  {
   "cell_type": "code",
   "execution_count": 47,
   "metadata": {},
   "outputs": [],
   "source": [
    "tedsaq = teds[['score', 'label_value', 'RACE', 'HLTHINS', 'AGE', 'ETHNIC']]"
   ]
  },
  {
   "cell_type": "code",
   "execution_count": 37,
   "metadata": {},
   "outputs": [
    {
     "data": {
      "text/html": [
       "<div>\n",
       "<style scoped>\n",
       "    .dataframe tbody tr th:only-of-type {\n",
       "        vertical-align: middle;\n",
       "    }\n",
       "\n",
       "    .dataframe tbody tr th {\n",
       "        vertical-align: top;\n",
       "    }\n",
       "\n",
       "    .dataframe thead th {\n",
       "        text-align: right;\n",
       "    }\n",
       "</style>\n",
       "<table border=\"1\" class=\"dataframe\">\n",
       "  <thead>\n",
       "    <tr style=\"text-align: right;\">\n",
       "      <th></th>\n",
       "      <th>score</th>\n",
       "      <th>label_value</th>\n",
       "      <th>RACE</th>\n",
       "      <th>HLTHINS</th>\n",
       "      <th>AGE</th>\n",
       "      <th>ETHNIC</th>\n",
       "    </tr>\n",
       "  </thead>\n",
       "  <tbody>\n",
       "    <tr>\n",
       "      <th>0</th>\n",
       "      <td>0</td>\n",
       "      <td>0</td>\n",
       "      <td>5.0</td>\n",
       "      <td>2.0</td>\n",
       "      <td>4</td>\n",
       "      <td>4.0</td>\n",
       "    </tr>\n",
       "    <tr>\n",
       "      <th>1</th>\n",
       "      <td>0</td>\n",
       "      <td>0</td>\n",
       "      <td>5.0</td>\n",
       "      <td>2.0</td>\n",
       "      <td>4</td>\n",
       "      <td>4.0</td>\n",
       "    </tr>\n",
       "    <tr>\n",
       "      <th>2</th>\n",
       "      <td>0</td>\n",
       "      <td>0</td>\n",
       "      <td>5.0</td>\n",
       "      <td>1.0</td>\n",
       "      <td>4</td>\n",
       "      <td>4.0</td>\n",
       "    </tr>\n",
       "    <tr>\n",
       "      <th>3</th>\n",
       "      <td>0</td>\n",
       "      <td>0</td>\n",
       "      <td>5.0</td>\n",
       "      <td>1.0</td>\n",
       "      <td>3</td>\n",
       "      <td>4.0</td>\n",
       "    </tr>\n",
       "    <tr>\n",
       "      <th>4</th>\n",
       "      <td>0</td>\n",
       "      <td>0</td>\n",
       "      <td>5.0</td>\n",
       "      <td>2.0</td>\n",
       "      <td>5</td>\n",
       "      <td>4.0</td>\n",
       "    </tr>\n",
       "  </tbody>\n",
       "</table>\n",
       "</div>"
      ],
      "text/plain": [
       "   score  label_value  RACE  HLTHINS  AGE  ETHNIC\n",
       "0      0            0   5.0      2.0    4     4.0\n",
       "1      0            0   5.0      2.0    4     4.0\n",
       "2      0            0   5.0      1.0    4     4.0\n",
       "3      0            0   5.0      1.0    3     4.0\n",
       "4      0            0   5.0      2.0    5     4.0"
      ]
     },
     "execution_count": 37,
     "metadata": {},
     "output_type": "execute_result"
    }
   ],
   "source": [
    "tedsaq.head()"
   ]
  },
  {
   "cell_type": "code",
   "execution_count": 41,
   "metadata": {},
   "outputs": [
    {
     "data": {
      "text/plain": [
       "{1.0: 'Puerto',\n",
       " 2.0: 'Mexican',\n",
       " 3.0: 'Cuban',\n",
       " 4.0: 'Not',\n",
       " 5.0: 'Hispanic',\n",
       " -9.0: 'Missing/unknown/not'}"
      ]
     },
     "execution_count": 41,
     "metadata": {},
     "output_type": "execute_result"
    }
   ],
   "source": [
    "ethstr = \"\"\"1 PuertoRican 60,085 3.6%\n",
    "2 Mexican 91,296 5.5%\n",
    "3 Cuban or other specific Hispanic 49,573 3.0%\n",
    "4 Not of Hispanic or Latino origin 1,386,571 83.5%\n",
    "5 UnspecifiedHispanicorLatino, specific origin not specified 37,903 2.3%\n",
    "-9 Missing/unknown/not collected/invalid 35,779 2.2%\"\"\"\n",
    "\n",
    "\n",
    "eth_map = {}\n",
    "for a in [x.split()[:2] for x in ethstr.split('\\n')]:\n",
    "    eth_map[float(a[0])] = a[1] \n",
    "\n",
    "eth_map"
   ]
  },
  {
   "cell_type": "code",
   "execution_count": 38,
   "metadata": {},
   "outputs": [
    {
     "data": {
      "text/plain": [
       "{1.0: '12–14',\n",
       " 2.0: '15–17',\n",
       " 3.0: '18–20',\n",
       " 4.0: '21–24',\n",
       " 5.0: '25–29',\n",
       " 6.0: '30–34',\n",
       " 7.0: '35–39',\n",
       " 8.0: '40–44',\n",
       " 9.0: '45–49',\n",
       " 10.0: '50–54',\n",
       " 11.0: '55–64',\n",
       " 12.0: '65',\n",
       " -9.0: 'missing'}"
      ]
     },
     "execution_count": 38,
     "metadata": {},
     "output_type": "execute_result"
    }
   ],
   "source": [
    "age_str = \"\"\"1 12–14 years 9,226 0.6%\n",
    "2 15–17 years 49,110 3.0%\n",
    "3 18–20 years 56,757 3.4%\n",
    "4 21–24 years 158,035 9.5%\n",
    "5 25–29 years 301,237 18.1%\n",
    "6 30–34 years 277,936 16.7%\n",
    "7 35–39 years 221,327 13.3%\n",
    "8 40–44 years 151,677 9.1%\n",
    "9 45–49 years 147,643 8.9%\n",
    "10 50–54 years 135,998 8.2%\n",
    "11 55–64 years 134,319 8.1%\n",
    "12 65 years and older 17,942 1.1%\n",
    "-9 missing\"\"\"\n",
    "\n",
    "age_map = {}\n",
    "\n",
    "for a in [x.split()[:2] for x in age_str.split('\\n')]:\n",
    "    age_map[float(a[0])] = a[1] \n",
    "\n",
    "age_map"
   ]
  },
  {
   "cell_type": "code",
   "execution_count": 39,
   "metadata": {},
   "outputs": [
    {
     "data": {
      "text/plain": [
       "{1.0: 'Private',\n",
       " 2.0: 'Medicaid',\n",
       " 3.0: 'Medicare,',\n",
       " 4.0: 'None',\n",
       " -9.0: 'Missing/unknown/not'}"
      ]
     },
     "execution_count": 39,
     "metadata": {},
     "output_type": "execute_result"
    }
   ],
   "source": [
    "instr = \"\"\"1 Private insurance, Blue Cross/Blue Shield, HMO 61,729 3.7%\n",
    "2 Medicaid 259,417 15.6%\n",
    "3 Medicare, other (e.g. TRICARE, CHAMPUS) 56,244 3.4%\n",
    "4 None 256,622 15.4%\n",
    "-9 Missing/unknown/not collected/invalid 1,027,195 61.8%\"\"\"\n",
    "\n",
    "ins_map = {}\n",
    "for a in [x.split()[:2] for x in instr.split('\\n')]:\n",
    "    ins_map[float(a[0])] = a[1] \n",
    "\n",
    "ins_map"
   ]
  },
  {
   "cell_type": "code",
   "execution_count": 42,
   "metadata": {},
   "outputs": [],
   "source": [
    "race_map = {\n",
    "    1: 'Alaska Native',\n",
    "    2: 'American Indian',\n",
    "    3: 'Asian or Pacific Islander',\n",
    "    4: 'Black',\n",
    "    5: 'White',\n",
    "    6: 'Asian',\n",
    "    7: 'Other single race',\n",
    "    8: 'Two or more races',\n",
    "    9: 'Native Hawaiin or Other Pacific Islander',\n",
    "    -9: 'missing'\n",
    "}\n"
   ]
  },
  {
   "cell_type": "code",
   "execution_count": 48,
   "metadata": {},
   "outputs": [
    {
     "name": "stderr",
     "output_type": "stream",
     "text": [
      "/Users/abbystevens/.virtualenvs/teds/lib/python3.7/site-packages/ipykernel_launcher.py:1: SettingWithCopyWarning: \n",
      "A value is trying to be set on a copy of a slice from a DataFrame.\n",
      "Try using .loc[row_indexer,col_indexer] = value instead\n",
      "\n",
      "See the caveats in the documentation: https://pandas.pydata.org/pandas-docs/stable/user_guide/indexing.html#returning-a-view-versus-a-copy\n",
      "  \"\"\"Entry point for launching an IPython kernel.\n"
     ]
    }
   ],
   "source": [
    "tedsaq['RACE'] = tedsaq.RACE.apply(lambda x: race_map[x])"
   ]
  },
  {
   "cell_type": "code",
   "execution_count": 54,
   "metadata": {},
   "outputs": [
    {
     "name": "stderr",
     "output_type": "stream",
     "text": [
      "/Users/abbystevens/.virtualenvs/teds/lib/python3.7/site-packages/ipykernel_launcher.py:1: SettingWithCopyWarning: \n",
      "A value is trying to be set on a copy of a slice from a DataFrame.\n",
      "Try using .loc[row_indexer,col_indexer] = value instead\n",
      "\n",
      "See the caveats in the documentation: https://pandas.pydata.org/pandas-docs/stable/user_guide/indexing.html#returning-a-view-versus-a-copy\n",
      "  \"\"\"Entry point for launching an IPython kernel.\n",
      "/Users/abbystevens/.virtualenvs/teds/lib/python3.7/site-packages/ipykernel_launcher.py:2: SettingWithCopyWarning: \n",
      "A value is trying to be set on a copy of a slice from a DataFrame.\n",
      "Try using .loc[row_indexer,col_indexer] = value instead\n",
      "\n",
      "See the caveats in the documentation: https://pandas.pydata.org/pandas-docs/stable/user_guide/indexing.html#returning-a-view-versus-a-copy\n",
      "  \n"
     ]
    }
   ],
   "source": [
    "tedsaq['ETHNIC'] = tedsaq.ETHNIC.apply(lambda x: eth_map[x])\n",
    "tedsaq['AGE'] = tedsaq.AGE.apply(lambda x: age_map[x])"
   ]
  },
  {
   "cell_type": "code",
   "execution_count": 52,
   "metadata": {},
   "outputs": [
    {
     "name": "stderr",
     "output_type": "stream",
     "text": [
      "/Users/abbystevens/.virtualenvs/teds/lib/python3.7/site-packages/ipykernel_launcher.py:1: SettingWithCopyWarning: \n",
      "A value is trying to be set on a copy of a slice from a DataFrame.\n",
      "Try using .loc[row_indexer,col_indexer] = value instead\n",
      "\n",
      "See the caveats in the documentation: https://pandas.pydata.org/pandas-docs/stable/user_guide/indexing.html#returning-a-view-versus-a-copy\n",
      "  \"\"\"Entry point for launching an IPython kernel.\n"
     ]
    }
   ],
   "source": [
    "tedsaq['HLTHINS'] = tedsaq.HLTHINS.apply(lambda x: ins_map[x])"
   ]
  },
  {
   "cell_type": "code",
   "execution_count": 56,
   "metadata": {},
   "outputs": [],
   "source": [
    "tedsaq.to_csv('teds4aequitas.csv', index=False)"
   ]
  },
  {
   "cell_type": "code",
   "execution_count": null,
   "metadata": {},
   "outputs": [],
   "source": []
  }
 ],
 "metadata": {
  "kernelspec": {
   "display_name": "Python 3",
   "language": "python",
   "name": "python3"
  },
  "language_info": {
   "codemirror_mode": {
    "name": "ipython",
    "version": 3
   },
   "file_extension": ".py",
   "mimetype": "text/x-python",
   "name": "python",
   "nbconvert_exporter": "python",
   "pygments_lexer": "ipython3",
   "version": "3.7.7"
  }
 },
 "nbformat": 4,
 "nbformat_minor": 4
}
